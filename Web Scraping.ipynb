{
 "cells": [
  {
   "cell_type": "markdown",
   "id": "7981319b",
   "metadata": {},
   "source": [
    "# Jumia Web Scraping"
   ]
  },
  {
   "cell_type": "markdown",
   "id": "a217bc33",
   "metadata": {},
   "source": [
    "Importing necessary libraries"
   ]
  },
  {
   "cell_type": "code",
   "execution_count": 1,
   "id": "5dff283f",
   "metadata": {},
   "outputs": [],
   "source": [
    "from bs4 import BeautifulSoup\n",
    "import requests\n",
    "import smtplib\n",
    "import time\n",
    "import datetime"
   ]
  },
  {
   "cell_type": "markdown",
   "id": "713b83bc",
   "metadata": {},
   "source": [
    "Connecting to the Internet"
   ]
  },
  {
   "cell_type": "code",
   "execution_count": 2,
   "id": "f469c310",
   "metadata": {},
   "outputs": [],
   "source": [
    "URL = 'https://www.jumia.com.ng/jones-wears-marshmello-printed-hoodie-black-50875236.html'\n",
    "headers = {\"User-Agent\": \"Mozilla/5.0 (Windows NT 10.0; Win64; x64) AppleWebKit/537.36 (KHTML, like Gecko) Chrome/103.0.0.0 Safari/537.36\", \n",
    "    \"X-Amzn-Trace-Id\": \"Root=1-62df80e3-237696361f93322652ac47be\"}\n",
    "page = requests.get(URL, headers=headers)\n",
    "soup1 = BeautifulSoup(page.content, \"html.parser\")\n",
    "soup2 = BeautifulSoup(soup1.prettify(), \"html.parser\")"
   ]
  },
  {
   "cell_type": "markdown",
   "id": "7ed198b6",
   "metadata": {},
   "source": [
    "Getting the Data"
   ]
  },
  {
   "cell_type": "code",
   "execution_count": 3,
   "id": "d633c359",
   "metadata": {},
   "outputs": [
    {
     "data": {
      "text/plain": [
       "'Jones Wears Marshmello Printed Hoodie Black'"
      ]
     },
     "execution_count": 3,
     "metadata": {},
     "output_type": "execute_result"
    }
   ],
   "source": [
    "#Product Name\n",
    "Product = soup2.find(class_=\"-fs20 -pts -pbxs\").get_text()\n",
    "Product = Product.strip()\n",
    "Product"
   ]
  },
  {
   "cell_type": "code",
   "execution_count": 6,
   "id": "15c3da9a",
   "metadata": {},
   "outputs": [
    {
     "data": {
      "text/plain": [
       "'₦ 4,800 - ₦ 9,800'"
      ]
     },
     "execution_count": 6,
     "metadata": {},
     "output_type": "execute_result"
    }
   ],
   "source": [
    "#Price\n",
    "Price = soup2.find(class_=\"-b -ltr -tal -fs24\").get_text()\n",
    "Price = Price.strip()\n",
    "Price"
   ]
  },
  {
   "cell_type": "code",
   "execution_count": 8,
   "id": "ea90ccf1",
   "metadata": {},
   "outputs": [
    {
     "data": {
      "text/plain": [
       "'(1125 verified ratings)'"
      ]
     },
     "execution_count": 8,
     "metadata": {},
     "output_type": "execute_result"
    }
   ],
   "source": [
    "#No_Ratings\n",
    "No_Ratings = soup2.find(class_=\"-plxs _more\").get_text()\n",
    "No_Ratings = No_Ratings.strip()\n",
    "No_Ratings"
   ]
  },
  {
   "cell_type": "code",
   "execution_count": 9,
   "id": "37188344",
   "metadata": {},
   "outputs": [
    {
     "data": {
      "text/plain": [
       "'3.9 out of 5'"
      ]
     },
     "execution_count": 9,
     "metadata": {},
     "output_type": "execute_result"
    }
   ],
   "source": [
    "#Ratings\n",
    "Ratings = soup2.find(class_=\"stars _s _al\").get_text()\n",
    "Ratings = Ratings.strip()\n",
    "Ratings"
   ]
  },
  {
   "cell_type": "markdown",
   "id": "a78c5c9d",
   "metadata": {},
   "source": [
    "Creating TimeStamp"
   ]
  },
  {
   "cell_type": "code",
   "execution_count": 10,
   "id": "e43419c7",
   "metadata": {},
   "outputs": [
    {
     "data": {
      "text/plain": [
       "datetime.date(2022, 7, 26)"
      ]
     },
     "execution_count": 10,
     "metadata": {},
     "output_type": "execute_result"
    }
   ],
   "source": [
    "import datetime as dt\n",
    "Date = dt.date.today()\n",
    "Date"
   ]
  },
  {
   "cell_type": "markdown",
   "id": "705d2b05",
   "metadata": {},
   "source": [
    "Importing the Data to CSV"
   ]
  },
  {
   "cell_type": "code",
   "execution_count": 11,
   "id": "1eaebb02",
   "metadata": {},
   "outputs": [],
   "source": [
    "import csv\n",
    "header = [\"Product\", \"Price\", \"No_Ratings\", \"Ratings\", \"Date\"]\n",
    "data = [Product, Price, No_Ratings, Ratings, Date]\n",
    "\n",
    "with open(\"JumiaScrapedData.csv\", \"w\", newline = \"\", encoding = \"UTF8\") as f:\n",
    "    writer = csv.writer(f)\n",
    "    writer.writerow(header)\n",
    "    writer.writerow(data)"
   ]
  },
  {
   "cell_type": "code",
   "execution_count": 12,
   "id": "b4d5f09b",
   "metadata": {},
   "outputs": [
    {
     "data": {
      "text/html": [
       "<div>\n",
       "<style scoped>\n",
       "    .dataframe tbody tr th:only-of-type {\n",
       "        vertical-align: middle;\n",
       "    }\n",
       "\n",
       "    .dataframe tbody tr th {\n",
       "        vertical-align: top;\n",
       "    }\n",
       "\n",
       "    .dataframe thead th {\n",
       "        text-align: right;\n",
       "    }\n",
       "</style>\n",
       "<table border=\"1\" class=\"dataframe\">\n",
       "  <thead>\n",
       "    <tr style=\"text-align: right;\">\n",
       "      <th></th>\n",
       "      <th>Product</th>\n",
       "      <th>Price</th>\n",
       "      <th>No_Ratings</th>\n",
       "      <th>Ratings</th>\n",
       "      <th>Date</th>\n",
       "    </tr>\n",
       "  </thead>\n",
       "  <tbody>\n",
       "    <tr>\n",
       "      <th>0</th>\n",
       "      <td>Jones Wears Marshmello Printed Hoodie Black</td>\n",
       "      <td>₦ 4,800 - ₦ 9,800</td>\n",
       "      <td>(1125 verified ratings)</td>\n",
       "      <td>3.9 out of 5</td>\n",
       "      <td>2022-07-26</td>\n",
       "    </tr>\n",
       "  </tbody>\n",
       "</table>\n",
       "</div>"
      ],
      "text/plain": [
       "                                       Product              Price  \\\n",
       "0  Jones Wears Marshmello Printed Hoodie Black  ₦ 4,800 - ₦ 9,800   \n",
       "\n",
       "                No_Ratings       Ratings        Date  \n",
       "0  (1125 verified ratings)  3.9 out of 5  2022-07-26  "
      ]
     },
     "execution_count": 12,
     "metadata": {},
     "output_type": "execute_result"
    }
   ],
   "source": [
    "import pandas as pd\n",
    "JumiaScrapedData = pd.read_csv(\"JumiaScrapedData.csv\")\n",
    "JumiaScrapedData"
   ]
  },
  {
   "cell_type": "markdown",
   "id": "5c824834",
   "metadata": {},
   "source": [
    "Appending Data to the CSV"
   ]
  },
  {
   "cell_type": "code",
   "execution_count": 13,
   "id": "94bb6135",
   "metadata": {},
   "outputs": [],
   "source": [
    "with open(\"JumiaScrapedData.csv\", \"a+\", newline = \"\", encoding = \"UTF8\") as f:\n",
    "    writer = csv.writer(f)\n",
    "    writer.writerow(data)"
   ]
  },
  {
   "cell_type": "markdown",
   "id": "6bc6719b",
   "metadata": {},
   "source": [
    "Automating the Proccess"
   ]
  },
  {
   "cell_type": "code",
   "execution_count": 14,
   "id": "e60bcc8e",
   "metadata": {},
   "outputs": [],
   "source": [
    "def checkprice():\n",
    "    URL = 'https://www.jumia.com.ng/jones-wears-marshmello-printed-hoodie-black-50875236.html'\n",
    "    headers = {\"User-Agent\": \"Mozilla/5.0 (Windows NT 10.0; Win64; x64) AppleWebKit/537.36 (KHTML, like Gecko) Chrome/103.0.0.0 Safari/537.36\", \n",
    "    \"X-Amzn-Trace-Id\": \"Root=1-62df80e3-237696361f93322652ac47be\"}\n",
    "    page = requests.get(URL, headers=headers)\n",
    "    soup1 = BeautifulSoup(page.content, \"html.parser\")\n",
    "    soup2 = BeautifulSoup(soup1.prettify(), \"html.parser\")\n",
    "    Product = soup2.find(class_=\"-fs20 -pts -pbxs\").get_text()\n",
    "    Price = soup2.find(class_=\"-b -ltr -tal -fs24\").get_text()\n",
    "    No_Ratings = soup2.find(class_=\"-plxs _more\").get_text()\n",
    "    Ratings = soup2.find(class_=\"stars _s _al\").get_text()\n",
    "    Product = Product.strip()\n",
    "    Price = Price.strip()\n",
    "    No_Ratings = No_Ratings.strip()\n",
    "    Ratings = Ratings.strip()\n",
    "    import datetime as dt\n",
    "    Date = dt.date.today()\n",
    "    import csv\n",
    "    header = [\"Product\", \"Price\", \"No_Ratings\", \"Ratings\", \"Date\"]\n",
    "    data = [Product, Price, No_Ratings, Ratings, Date]\n",
    "    with open(\"JumiaScrapedData.csv\", \"a+\", newline = \"\", encoding = \"UTF8\") as f:\n",
    "        writer = csv.writer(f)\n",
    "        writer.writerow(data)\n"
   ]
  },
  {
   "cell_type": "code",
   "execution_count": 17,
   "id": "679e543e",
   "metadata": {},
   "outputs": [
    {
     "ename": "KeyboardInterrupt",
     "evalue": "",
     "output_type": "error",
     "traceback": [
      "\u001b[1;31m---------------------------------------------------------------------------\u001b[0m",
      "\u001b[1;31mKeyboardInterrupt\u001b[0m                         Traceback (most recent call last)",
      "Input \u001b[1;32mIn [17]\u001b[0m, in \u001b[0;36m<cell line: 1>\u001b[1;34m()\u001b[0m\n\u001b[0;32m      1\u001b[0m \u001b[38;5;28;01mwhile\u001b[39;00m(\u001b[38;5;28;01mTrue\u001b[39;00m):\n\u001b[0;32m      2\u001b[0m     checkprice()\n\u001b[1;32m----> 3\u001b[0m     \u001b[43mtime\u001b[49m\u001b[38;5;241;43m.\u001b[39;49m\u001b[43msleep\u001b[49m\u001b[43m(\u001b[49m\u001b[38;5;241;43m60\u001b[39;49m\u001b[43m)\u001b[49m\n",
      "\u001b[1;31mKeyboardInterrupt\u001b[0m: "
     ]
    }
   ],
   "source": [
    "while(True):\n",
    "    checkprice()\n",
    "    time.sleep(60)"
   ]
  },
  {
   "cell_type": "code",
   "execution_count": 18,
   "id": "d33e9018",
   "metadata": {},
   "outputs": [
    {
     "data": {
      "text/html": [
       "<div>\n",
       "<style scoped>\n",
       "    .dataframe tbody tr th:only-of-type {\n",
       "        vertical-align: middle;\n",
       "    }\n",
       "\n",
       "    .dataframe tbody tr th {\n",
       "        vertical-align: top;\n",
       "    }\n",
       "\n",
       "    .dataframe thead th {\n",
       "        text-align: right;\n",
       "    }\n",
       "</style>\n",
       "<table border=\"1\" class=\"dataframe\">\n",
       "  <thead>\n",
       "    <tr style=\"text-align: right;\">\n",
       "      <th></th>\n",
       "      <th>Product</th>\n",
       "      <th>Price</th>\n",
       "      <th>No_Ratings</th>\n",
       "      <th>Ratings</th>\n",
       "      <th>Date</th>\n",
       "    </tr>\n",
       "  </thead>\n",
       "  <tbody>\n",
       "    <tr>\n",
       "      <th>0</th>\n",
       "      <td>Jones Wears Marshmello Printed Hoodie Black</td>\n",
       "      <td>₦ 4,800 - ₦ 9,800</td>\n",
       "      <td>(1125 verified ratings)</td>\n",
       "      <td>3.9 out of 5</td>\n",
       "      <td>2022-07-26</td>\n",
       "    </tr>\n",
       "    <tr>\n",
       "      <th>1</th>\n",
       "      <td>Jones Wears Marshmello Printed Hoodie Black</td>\n",
       "      <td>₦ 4,800 - ₦ 9,800</td>\n",
       "      <td>(1125 verified ratings)</td>\n",
       "      <td>3.9 out of 5</td>\n",
       "      <td>2022-07-26</td>\n",
       "    </tr>\n",
       "    <tr>\n",
       "      <th>2</th>\n",
       "      <td>Jones Wears Marshmello Printed Hoodie Black</td>\n",
       "      <td>₦ 4,800 - ₦ 9,800</td>\n",
       "      <td>(1125 verified ratings)</td>\n",
       "      <td>3.9 out of 5</td>\n",
       "      <td>2022-07-26</td>\n",
       "    </tr>\n",
       "    <tr>\n",
       "      <th>3</th>\n",
       "      <td>Jones Wears Marshmello Printed Hoodie Black</td>\n",
       "      <td>₦ 4,800 - ₦ 9,800</td>\n",
       "      <td>(1125 verified ratings)</td>\n",
       "      <td>3.9 out of 5</td>\n",
       "      <td>2022-07-26</td>\n",
       "    </tr>\n",
       "    <tr>\n",
       "      <th>4</th>\n",
       "      <td>Jones Wears Marshmello Printed Hoodie Black</td>\n",
       "      <td>₦ 4,800 - ₦ 9,800</td>\n",
       "      <td>(1125 verified ratings)</td>\n",
       "      <td>3.9 out of 5</td>\n",
       "      <td>2022-07-26</td>\n",
       "    </tr>\n",
       "    <tr>\n",
       "      <th>5</th>\n",
       "      <td>Jones Wears Marshmello Printed Hoodie Black</td>\n",
       "      <td>₦ 4,800 - ₦ 9,800</td>\n",
       "      <td>(1125 verified ratings)</td>\n",
       "      <td>3.9 out of 5</td>\n",
       "      <td>2022-07-26</td>\n",
       "    </tr>\n",
       "    <tr>\n",
       "      <th>6</th>\n",
       "      <td>Jones Wears Marshmello Printed Hoodie Black</td>\n",
       "      <td>₦ 4,800 - ₦ 9,800</td>\n",
       "      <td>(1125 verified ratings)</td>\n",
       "      <td>3.9 out of 5</td>\n",
       "      <td>2022-07-26</td>\n",
       "    </tr>\n",
       "    <tr>\n",
       "      <th>7</th>\n",
       "      <td>Jones Wears Marshmello Printed Hoodie Black</td>\n",
       "      <td>₦ 4,800 - ₦ 9,800</td>\n",
       "      <td>(1125 verified ratings)</td>\n",
       "      <td>3.9 out of 5</td>\n",
       "      <td>2022-07-26</td>\n",
       "    </tr>\n",
       "    <tr>\n",
       "      <th>8</th>\n",
       "      <td>Jones Wears Marshmello Printed Hoodie Black</td>\n",
       "      <td>₦ 4,800 - ₦ 9,800</td>\n",
       "      <td>(1125 verified ratings)</td>\n",
       "      <td>3.9 out of 5</td>\n",
       "      <td>2022-07-26</td>\n",
       "    </tr>\n",
       "    <tr>\n",
       "      <th>9</th>\n",
       "      <td>Jones Wears Marshmello Printed Hoodie Black</td>\n",
       "      <td>₦ 4,800 - ₦ 9,800</td>\n",
       "      <td>(1125 verified ratings)</td>\n",
       "      <td>3.9 out of 5</td>\n",
       "      <td>2022-07-26</td>\n",
       "    </tr>\n",
       "  </tbody>\n",
       "</table>\n",
       "</div>"
      ],
      "text/plain": [
       "                                       Product              Price  \\\n",
       "0  Jones Wears Marshmello Printed Hoodie Black  ₦ 4,800 - ₦ 9,800   \n",
       "1  Jones Wears Marshmello Printed Hoodie Black  ₦ 4,800 - ₦ 9,800   \n",
       "2  Jones Wears Marshmello Printed Hoodie Black  ₦ 4,800 - ₦ 9,800   \n",
       "3  Jones Wears Marshmello Printed Hoodie Black  ₦ 4,800 - ₦ 9,800   \n",
       "4  Jones Wears Marshmello Printed Hoodie Black  ₦ 4,800 - ₦ 9,800   \n",
       "5  Jones Wears Marshmello Printed Hoodie Black  ₦ 4,800 - ₦ 9,800   \n",
       "6  Jones Wears Marshmello Printed Hoodie Black  ₦ 4,800 - ₦ 9,800   \n",
       "7  Jones Wears Marshmello Printed Hoodie Black  ₦ 4,800 - ₦ 9,800   \n",
       "8  Jones Wears Marshmello Printed Hoodie Black  ₦ 4,800 - ₦ 9,800   \n",
       "9  Jones Wears Marshmello Printed Hoodie Black  ₦ 4,800 - ₦ 9,800   \n",
       "\n",
       "                No_Ratings       Ratings        Date  \n",
       "0  (1125 verified ratings)  3.9 out of 5  2022-07-26  \n",
       "1  (1125 verified ratings)  3.9 out of 5  2022-07-26  \n",
       "2  (1125 verified ratings)  3.9 out of 5  2022-07-26  \n",
       "3  (1125 verified ratings)  3.9 out of 5  2022-07-26  \n",
       "4  (1125 verified ratings)  3.9 out of 5  2022-07-26  \n",
       "5  (1125 verified ratings)  3.9 out of 5  2022-07-26  \n",
       "6  (1125 verified ratings)  3.9 out of 5  2022-07-26  \n",
       "7  (1125 verified ratings)  3.9 out of 5  2022-07-26  \n",
       "8  (1125 verified ratings)  3.9 out of 5  2022-07-26  \n",
       "9  (1125 verified ratings)  3.9 out of 5  2022-07-26  "
      ]
     },
     "execution_count": 18,
     "metadata": {},
     "output_type": "execute_result"
    }
   ],
   "source": [
    "import pandas as pd\n",
    "JumiaScrapedData = pd.read_csv(\"JumiaScrapedData.csv\")\n",
    "JumiaScrapedData"
   ]
  },
  {
   "cell_type": "code",
   "execution_count": null,
   "id": "e4a39a0a",
   "metadata": {},
   "outputs": [],
   "source": []
  }
 ],
 "metadata": {
  "kernelspec": {
   "display_name": "Python 3 (ipykernel)",
   "language": "python",
   "name": "python3"
  },
  "language_info": {
   "codemirror_mode": {
    "name": "ipython",
    "version": 3
   },
   "file_extension": ".py",
   "mimetype": "text/x-python",
   "name": "python",
   "nbconvert_exporter": "python",
   "pygments_lexer": "ipython3",
   "version": "3.10.4"
  }
 },
 "nbformat": 4,
 "nbformat_minor": 5
}
